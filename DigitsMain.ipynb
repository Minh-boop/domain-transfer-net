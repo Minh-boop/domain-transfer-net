{
 "cells": [
  {
   "cell_type": "code",
   "execution_count": null,
   "metadata": {},
   "outputs": [],
   "source": []
  },
  {
   "cell_type": "code",
   "execution_count": null,
   "metadata": {},
   "outputs": [],
   "source": [
    "import torch\r\n",
    "import torch.nn as nn\r\n",
    "from torchvision import transforms\r\n",
    "from torch.utils.data import Dataset, DataLoader\r\n",
    "import matplotlib.pyplot as plt\r\n",
    "import numpy as np\r\n",
    "\r\n",
    "# from faces_model_test import FaceTest\r\n",
    "from data import ResizeTransform, EmojiDataset, MSCeleb1MDataset\r\n",
    "\r\n",
    "get_ipython().magic('matplotlib inline')\r\n",
    "get_ipython().magic('reload_ext autoreload')\r\n",
    "get_ipython().magic('autoreload 2')"
   ]
  },
  {
   "cell_type": "code",
   "execution_count": null,
   "metadata": {},
   "outputs": [],
   "source": [
    "train_set = EmojiDataset('./datasets/emoji_data/', 0, 1000, transform=ResizeTransform(96))\r\n",
    "train_loader = torch.utils.data.DataLoader(train_set, batch_size=1, shuffle=True)\r\n",
    "\r\n",
    "data_iter = iter(train_loader)\r\n",
    "\r\n",
    "img_tens = data_iter.next()\r\n",
    "# plt.imshow(og_img)\r\n",
    "plt.imshow(np.transpose(img_tens.numpy()[0], (1, 2, 0)))\r\n",
    "plt.show()"
   ]
  },
  {
   "cell_type": "code",
   "execution_count": null,
   "metadata": {},
   "outputs": [],
   "source": [
    "train_set = EmojiDataset('./datasets/emoji_data/', 0, 1000, transform=ResizeTransform(96))\r\n",
    "train_loader = torch.utils.data.DataLoader(train_set, batch_size=100, shuffle=True)\r\n",
    "\r\n",
    "data_iter = iter(train_loader)\r\n",
    "\r\n",
    "sum = torch.zeros((3))\r\n",
    "for i in range(0, 100):\r\n",
    "    if i % 1000 == 0:\r\n",
    "        print('data ' + str(i))\r\n",
    "    img = data_iter.next()\r\n",
    "    sum[0] += torch.sum(img[:,0,:,:])\r\n",
    "    sum[1] += torch.sum(img[:,1,:,:])\r\n",
    "    sum[2] += torch.sum(img[:,2,:,:])\r\n",
    "\r\n",
    "sum /= 100*100*96*96\r\n",
    "print(sum)\r\n",
    "\r\n",
    "mean = sum\r\n",
    "diff_sum = torch.zeros((3))\r\n",
    "for i in range(0, 100):\r\n",
    "    if i % 1000 == 0:\r\n",
    "        print('data ' + str(i))\r\n",
    "    img = data_iter.next()\r\n",
    "    diff_sum[0] += torch.sum((img[:,0,:,:] - mean[0])*(img[:,0,:,:] - mean[0]))\r\n",
    "    diff_sum[1] += torch.sum((img[:,1,:,:] - mean[1])*(img[:,1,:,:] - mean[1]))\r\n",
    "    diff_sum[2] += torch.sum((img[:,2,:,:] - mean[2])*(img[:,2,:,:] - mean[2]))\r\n",
    "\r\n",
    "diff_sum /= (100*100*96*96 - 1)\r\n",
    "std = torch.sqrt(diff_sum)\r\n",
    "print(std)\r\n",
    "    \r\n",
    "img_tens = data_iter.next()\r\n",
    "# plt.imshow(og_img)\r\n",
    "plt.imshow(np.transpose(img_tens.numpy()[0], (1, 2, 0)))\r\n",
    "plt.show()"
   ]
  },
  {
   "cell_type": "code",
   "execution_count": null,
   "metadata": {},
   "outputs": [],
   "source": [
    "train_set = MSCeleb1MDataset('./datasets/ms-celeb-1m/data/', 'train', ResizeTransform(96))\r\n",
    "train_loader = torch.utils.data.DataLoader(train_set, batch_size=1, shuffle=True)"
   ]
  },
  {
   "cell_type": "code",
   "execution_count": null,
   "metadata": {},
   "outputs": [],
   "source": [
    "data_iter = iter(train_loader)\r\n",
    "\r\n",
    "img_tens = data_iter.next()\r\n",
    "plt.imshow(np.transpose(img_tens.numpy()[0], (1, 2, 0)))\r\n",
    "plt.show()"
   ]
  },
  {
   "cell_type": "markdown",
   "metadata": {},
   "source": [
    "# Begin Model Testing"
   ]
  },
  {
   "cell_type": "code",
   "execution_count": null,
   "metadata": {},
   "outputs": [],
   "source": [
    "import torch\r\n",
    "import torch.nn as nn\r\n",
    "from torchvision import transforms\r\n",
    "from torch.utils.data import Dataset, DataLoader\r\n",
    "import matplotlib\r\n",
    "import matplotlib.pyplot as plt\r\n",
    "import numpy as np\r\n",
    "\r\n",
    "# from faces_model_test_open import FaceTest\r\n",
    "# from faces_model_test_sphere import FaceTestSphere\r\n",
    "\r\n",
    "from digit_model_test import digits_model_test\r\n",
    "from data import ResizeTransform, EmojiDataset, MSCeleb1MDataset\r\n",
    "\r\n",
    "from IPython import get_ipython\r\n",
    "\r\n",
    "get_ipython().magic('matplotlib inline')\r\n",
    "get_ipython().magic('reload_ext autoreload')\r\n",
    "get_ipython().magic('autoreload 2')"
   ]
  },
  {
   "cell_type": "code",
   "execution_count": null,
   "metadata": {},
   "outputs": [],
   "source": [
    "# test = FaceTest(use_gpu=True)\r\n",
    "test = digits_model_test(use_gpu=True)"
   ]
  },
  {
   "cell_type": "code",
   "execution_count": null,
   "metadata": {},
   "outputs": [],
   "source": [
    "test.create_data_loaders()"
   ]
  },
  {
   "cell_type": "code",
   "execution_count": null,
   "metadata": {},
   "outputs": [],
   "source": [
    "test.visualize_single_batch()"
   ]
  },
  {
   "cell_type": "code",
   "execution_count": null,
   "metadata": {},
   "outputs": [],
   "source": [
    "def get_num_parameters(model):\r\n",
    "    total_num=0\r\n",
    "    if type(model) == type(dict()):\r\n",
    "        for key in model:\r\n",
    "            for p in model[key].parameters():\r\n",
    "                total_num+=p.nelement()\r\n",
    "    else:\r\n",
    "        for p in model.parameters():\r\n",
    "            total_num+=p.nelement()\r\n",
    "    return total_num\r\n",
    "\r\n",
    "test.create_model()\r\n",
    "print(test.model)\r\n",
    "print('num params: ' + str(get_num_parameters(test.model)))"
   ]
  },
  {
   "cell_type": "code",
   "execution_count": null,
   "metadata": {},
   "outputs": [],
   "source": [
    "test.create_loss_function()"
   ]
  },
  {
   "cell_type": "code",
   "execution_count": null,
   "metadata": {},
   "outputs": [],
   "source": [
    "test.create_optimizer()"
   ]
  },
  {
   "cell_type": "code",
   "execution_count": null,
   "metadata": {},
   "outputs": [],
   "source": [
    "kwargs = {}\r\n",
    "kwargs[\"visualize_batches\"] = 10\r\n",
    "kwargs[\"save_batches\"] = 50\r\n",
    "test.train_model(num_epochs=3, **kwargs)"
   ]
  },
  {
   "cell_type": "code",
   "execution_count": null,
   "metadata": {},
   "outputs": [],
   "source": [
    "checkpoint_name = './log/1513065292_0_1099.tar' "
   ]
  },
  {
   "cell_type": "code",
   "execution_count": null,
   "metadata": {},
   "outputs": [],
   "source": [
    "torch.save(test.log, checkpoint_name)"
   ]
  },
  {
   "cell_type": "code",
   "execution_count": null,
   "metadata": {},
   "outputs": [],
   "source": [
    "log=torch.load(checkpoint_name)\r\n",
    "G_model=log['G_model']\r\n",
    "D_model=log['D_model']\r\n",
    "test.log = log\r\n",
    "test.model['G'] = G_model\r\n",
    "test.model['D'] = D_model"
   ]
  },
  {
   "cell_type": "code",
   "execution_count": null,
   "metadata": {},
   "outputs": [],
   "source": [
    "plt.figure()\r\n",
    "matplotlib.rcParams['font.size'] = 14\r\n",
    "for key in test.log:\r\n",
    "    if 'loss' in key and test.log[key] is not None:\r\n",
    "        y = test.log[key][2:]\r\n",
    "        x = np.arange(0, 11450, 50)\r\n",
    "        plt.plot(y,label=key)\r\n",
    "        plt.legend()\r\n",
    "#         plt.ylabel('Loss')\r\n",
    "#         plt.xlabel('Batches (size 128)')\r\n",
    "        plt.show()"
   ]
  },
  {
   "cell_type": "code",
   "execution_count": null,
   "metadata": {},
   "outputs": [],
   "source": []
  },
  {
   "cell_type": "code",
   "execution_count": null,
   "metadata": {},
   "outputs": [],
   "source": []
  }
 ],
 "metadata": {
  "interpreter": {
   "hash": "c1c6cc88ec3e43c7c3c7edfd65423d72594b7db234e833bcd19be238ca86f750"
  },
  "kernelspec": {
   "display_name": "Python 3.9.4  ('dtn-venv': venv)",
   "name": "python3"
  },
  "language_info": {
   "name": "python",
   "version": ""
  },
  "orig_nbformat": 4
 },
 "nbformat": 4,
 "nbformat_minor": 2
}